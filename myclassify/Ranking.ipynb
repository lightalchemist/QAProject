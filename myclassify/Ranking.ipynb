{
 "cells": [
  {
   "cell_type": "markdown",
   "metadata": {},
   "source": [
    "# For training classifiers to predict/rank answers\n",
    "---"
   ]
  },
  {
   "cell_type": "code",
   "execution_count": 1,
   "metadata": {
    "collapsed": false
   },
   "outputs": [],
   "source": [
    "import matplotlib.pyplot as plt\n",
    "%matplotlib inline"
   ]
  },
  {
   "cell_type": "markdown",
   "metadata": {},
   "source": [
    "## Utility functions"
   ]
  },
  {
   "cell_type": "code",
   "execution_count": 2,
   "metadata": {
    "collapsed": false
   },
   "outputs": [],
   "source": [
    "import arff\n",
    "import numpy as np\n",
    "from sklearn import linear_model\n",
    "from sklearn.ensemble import RandomForestClassifier\n",
    "\n",
    "from sklearn.metrics import confusion_matrix, classification_report, accuracy_score\n",
    "\n",
    "#import data\n",
    "def importData(path):\n",
    "    dataset = arff.load(open(path, 'rb'))\n",
    "    data = np.array(dataset['data'])\n",
    "    #print data[:10]\n",
    "\n",
    "    #extract features and labels\n",
    "    features = []\n",
    "    labels = []\n",
    "    for d in data:\n",
    "        f = []\n",
    "        for i in range(len(d) - 1):\n",
    "            num = float(d[i])\n",
    "            if int(num) == num:\n",
    "                num = int(num)\n",
    "            f.append(num)\n",
    "        features.append(f)\n",
    "\n",
    "        if d[-1] == \"positive\":\n",
    "            labels.append(1)\n",
    "        else:\n",
    "            labels.append(0)\n",
    "    return np.asarray(features), np.asarray(labels)"
   ]
  },
  {
   "cell_type": "code",
   "execution_count": 3,
   "metadata": {
    "collapsed": true
   },
   "outputs": [],
   "source": [
    "def load_similarity_features(filepath):\n",
    "    features = []\n",
    "    labels = []\n",
    "    map_label = {\"positive\": 1, \"negative\": 0}\n",
    "    with open(filepath) as infile:\n",
    "        for line in infile:\n",
    "            label, score = line.strip().split(',')\n",
    "            score = float(score)\n",
    "            label = map_label[label]\n",
    "            features.append(score)\n",
    "            labels.append(label)\n",
    "            \n",
    "    return np.asarray(features).reshape(-1, 1), np.asarray(labels)\n",
    "        "
   ]
  },
  {
   "cell_type": "code",
   "execution_count": 14,
   "metadata": {
    "collapsed": false,
    "scrolled": true
   },
   "outputs": [],
   "source": [
    "import os\n",
    "def predict_for_test(test, predict, probability, path):\n",
    "    with open(path, 'w') as f:\n",
    "        f.write(\"=== Predictions on test data ===\\n\")\n",
    "        f.write(\" inst#     actual  predicted error prediction\\n\")\n",
    "        for i in range(len(test)):\n",
    "            string = [str(i + 1)]\n",
    "            if test[i] == 1:\n",
    "                string.append(\"1:positive\")\n",
    "            else:\n",
    "                string.append(\"2:negative\")\n",
    "            if predict[i] == 1:\n",
    "                string.append(\"1:positive\")\n",
    "            else:\n",
    "                string.append(\"2:negative\")\n",
    "            if test[i] == predict[i]:\n",
    "                string.append(\" \" * 5)\n",
    "            else:\n",
    "                string.append(\" \" * 2 + \"+\" + \" \" * 2)\n",
    "            if predict[i] == 1:\n",
    "                string.append(str(probability[i][1]))\n",
    "            else:\n",
    "                string.append(str(probability[i][0]))\n",
    "            string = \" \".join(string) + \"\\n\"\n",
    "            f.write(string)\n",
    "    f.close()         \n",
    "    "
   ]
  },
  {
   "cell_type": "markdown",
   "metadata": {},
   "source": [
    "# Prepare data"
   ]
  },
  {
   "cell_type": "markdown",
   "metadata": {},
   "source": [
    "### Jacana features"
   ]
  },
  {
   "cell_type": "code",
   "execution_count": 5,
   "metadata": {
    "collapsed": false
   },
   "outputs": [],
   "source": [
    "#import training data and test data\n",
    "train_datapath = \"./qa.train.arff\"\n",
    "test_datapath = \"./qa.test.arff\"\n",
    "\n",
    "X_train, y_train = importData(train_datapath)\n",
    "X_test, y_test = importData(test_datapath)"
   ]
  },
  {
   "cell_type": "markdown",
   "metadata": {},
   "source": [
    "### Add GloVe vectors question answer similarity scores"
   ]
  },
  {
   "cell_type": "code",
   "execution_count": 6,
   "metadata": {
    "collapsed": false
   },
   "outputs": [],
   "source": [
    "# Qn answer similarity scores\n",
    "X_sim_train, y_sim_train = load_similarity_features(\"../data/features/glove_embedding_sentence_similarities_train_100.txt\")\n",
    "X_sim_test, y_sim_test = load_similarity_features(\"../data/features/glove_embedding_sentence_similarities_test_100.txt\")\n",
    "\n",
    "X_combined_train = np.hstack((X_train, X_sim_train))\n",
    "X_combined_test = np.hstack((X_test, X_sim_test))"
   ]
  },
  {
   "cell_type": "markdown",
   "metadata": {},
   "source": [
    "### Add type features"
   ]
  },
  {
   "cell_type": "code",
   "execution_count": null,
   "metadata": {
    "collapsed": true
   },
   "outputs": [],
   "source": []
  },
  {
   "cell_type": "markdown",
   "metadata": {},
   "source": [
    "### Normalize data\n",
    "\n",
    "NOTE: Might not want to do this for Random Forest-like classifiers"
   ]
  },
  {
   "cell_type": "code",
   "execution_count": 7,
   "metadata": {
    "collapsed": false
   },
   "outputs": [],
   "source": [
    "from sklearn.preprocessing import RobustScaler\n",
    "\n",
    "# Scale combined data\n",
    "scaler = RobustScaler()\n",
    "scaler.fit(X_combined_train)\n",
    "X_comb_scaled_train = scaler.transform(X_combined_train)\n",
    "X_comb_scaled_test = scaler.transform(X_combined_test)\n",
    "\n",
    "# Scale Jacana features only\n",
    "# scaler = RobustScaler()\n",
    "# scaler.fit(X_train)\n",
    "# X_train = scaler.transform(X_train)\n",
    "# X_test = scaler.transform(X_test)\n",
    "\n",
    "# Only normalize the similarity scores\n",
    "scaler = RobustScaler()\n",
    "scaler.fit(X_sim_train)\n",
    "X_sim_train = scaler.transform(X_sim_train)\n",
    "X_sim_test = scaler.transform(X_sim_test)\n",
    "X_comb_scaledsim_train = np.hstack((X_train, X_sim_train))\n",
    "X_comb_scaledsim_test = np.hstack((X_test, X_sim_test))"
   ]
  },
  {
   "cell_type": "markdown",
   "metadata": {},
   "source": [
    "## Apply dim reduction to denoise data"
   ]
  },
  {
   "cell_type": "code",
   "execution_count": 8,
   "metadata": {
    "collapsed": false
   },
   "outputs": [],
   "source": [
    "from sklearn.decomposition import PCA\n",
    "pca = PCA(n_components=30)\n",
    "pca.fit(X_combined_train)\n",
    "X_pca_train = pca.transform(X_combined_train)\n",
    "X_pca_test = pca.transform(X_combined_test)"
   ]
  },
  {
   "cell_type": "code",
   "execution_count": 9,
   "metadata": {
    "collapsed": false
   },
   "outputs": [
    {
     "data": {
      "text/plain": [
       "<matplotlib.text.Text at 0x10beaf290>"
      ]
     },
     "execution_count": 9,
     "metadata": {},
     "output_type": "execute_result"
    },
    {
     "data": {
      "image/png": "[encoded data removed]",
      "text/plain": [
       "<matplotlib.figure.Figure at 0x109cc8810>"
      ]
     },
     "metadata": {},
     "output_type": "display_data"
    }
   ],
   "source": [
    "plt.plot(pca.explained_variance_)\n",
    "plt.title(\"PCA explained variance\")"
   ]
  },
  {
   "cell_type": "markdown",
   "metadata": {},
   "source": [
    "# Train using Logistic Regression"
   ]
  },
  {
   "cell_type": "code",
   "execution_count": 18,
   "metadata": {
    "collapsed": false
   },
   "outputs": [
    {
     "name": "stdout",
     "output_type": "stream",
     "text": [
      "             precision    recall  f1-score   support\n",
      "\n",
      "          0       0.84      0.99      0.91      1233\n",
      "          1       0.82      0.17      0.28       284\n",
      "\n",
      "avg / total       0.83      0.84      0.79      1517\n",
      "\n",
      "[[1222   11]\n",
      " [ 235   49]]\n",
      "Accuracy: 0.837837837838\n"
     ]
    }
   ],
   "source": [
    "# Jacana features only\n",
    "logreg = linear_model.LogisticRegression(C=0.01,\n",
    "#                                          penalty=\"l1\"\n",
    "                                        )\n",
    "logreg = logreg.fit(X_train, y_train)\n",
    "y_pred = logreg.predict(X_test)\n",
    "\n",
    "y_prob = logreg.predict_proba(X_test)\n",
    "\n",
    "#write result to file\n",
    "predict_for_test(y_test, y_pred, y_prob, \"./test_res/jacana-log-qa-test.txt\")\n",
    "\n",
    "# Compute metrics\n",
    "print(classification_report(y_test, y_pred))\n",
    "print(confusion_matrix(y_test, y_pred))\n",
    "print(\"Accuracy: {}\".format(accuracy_score(y_test, y_pred)))"
   ]
  },
  {
   "cell_type": "code",
   "execution_count": 22,
   "metadata": {
    "collapsed": false
   },
   "outputs": [
    {
     "name": "stdout",
     "output_type": "stream",
     "text": [
      "             precision    recall  f1-score   support\n",
      "\n",
      "          0       0.84      0.98      0.91      1233\n",
      "          1       0.73      0.21      0.32       284\n",
      "\n",
      "avg / total       0.82      0.84      0.80      1517\n",
      "\n",
      "[[1211   22]\n",
      " [ 225   59]]\n",
      "Accuracy: 0.837178642057\n"
     ]
    }
   ],
   "source": [
    "#logistic regression with qn similarity features\n",
    "\n",
    "# Jacana + similarity features (no scaling)\n",
    "logreg = linear_model.LogisticRegression(C=0.2,\n",
    "                                         penalty=\"l1\"\n",
    "                                        )\n",
    "logreg = logreg.fit(X_combined_train, y_train)\n",
    "y_pred = logreg.predict(X_combined_test)\n",
    "\n",
    "y_prob = logreg.predict_proba(X_combined_test)\n",
    "\n",
    "#write result to file\n",
    "predict_for_test(y_test, y_pred, y_prob, \"./test_res/jasim-log-qa-test.txt\")\n",
    "\n",
    "# Compute metrics\n",
    "print(classification_report(y_test, y_pred))\n",
    "print(confusion_matrix(y_test, y_pred))\n",
    "print(\"Accuracy: {}\".format(accuracy_score(y_test, y_pred)))"
   ]
  },
  {
   "cell_type": "code",
   "execution_count": 23,
   "metadata": {
    "collapsed": false
   },
   "outputs": [
    {
     "name": "stdout",
     "output_type": "stream",
     "text": [
      "             precision    recall  f1-score   support\n",
      "\n",
      "          0       0.84      0.98      0.91      1233\n",
      "          1       0.72      0.21      0.33       284\n",
      "\n",
      "avg / total       0.82      0.84      0.80      1517\n",
      "\n",
      "[[1209   24]\n",
      " [ 223   61]]\n",
      "Accuracy: 0.837178642057\n"
     ]
    }
   ],
   "source": [
    "#logistic regression with qn similarity features\n",
    "# Jacana + similarity features (scale similarity only)\n",
    "logreg = linear_model.LogisticRegression(C=2,\n",
    "                                        )\n",
    "logreg = logreg.fit(X_comb_scaledsim_train, y_train)\n",
    "y_pred = logreg.predict(X_comb_scaledsim_test)\n",
    "\n",
    "y_prob = logreg.predict_proba(X_comb_scaledsim_test)\n",
    "\n",
    "#write result to file\n",
    "predict_for_test(y_test, y_pred, y_prob, \"./test_res/scaledsim-log-qa-test.txt\")\n",
    "\n",
    "# Compute metrics\n",
    "print(classification_report(y_test, y_pred))\n",
    "print(confusion_matrix(y_test, y_pred))\n",
    "print(\"Accuracy: {}\".format(accuracy_score(y_test, y_pred)))"
   ]
  },
  {
   "cell_type": "code",
   "execution_count": 26,
   "metadata": {
    "collapsed": false
   },
   "outputs": [
    {
     "name": "stdout",
     "output_type": "stream",
     "text": [
      "             precision    recall  f1-score   support\n",
      "\n",
      "          0       0.84      0.99      0.91      1233\n",
      "          1       0.86      0.15      0.26       284\n",
      "\n",
      "avg / total       0.84      0.84      0.79      1517\n",
      "\n",
      "[[1226    7]\n",
      " [ 241   43]]\n",
      "Accuracy: 0.836519446276\n"
     ]
    }
   ],
   "source": [
    "#logistic regression with qn similarity features\n",
    "# Jacana + similarity + PCA reduced\n",
    "\n",
    "clf = linear_model.LogisticRegression(C=0.002,\n",
    "                                        )\n",
    "clf.fit(X_pca_train, y_train)\n",
    "y_pred = clf.predict(X_pca_test)\n",
    "\n",
    "y_prob = clf.predict_proba(X_pca_test)\n",
    "\n",
    "#write result to file\n",
    "predict_for_test(y_test, y_pred, y_prob, \"./test_res/pca-log-qa-test.txt\")\n",
    "\n",
    "# Compute metrics\n",
    "print(classification_report(y_test, y_pred))\n",
    "print(confusion_matrix(y_test, y_pred))\n",
    "print(\"Accuracy: {}\".format(accuracy_score(y_test, y_pred)))"
   ]
  },
  {
   "cell_type": "code",
   "execution_count": 28,
   "metadata": {
    "collapsed": false
   },
   "outputs": [
    {
     "name": "stdout",
     "output_type": "stream",
     "text": [
      "RandomizedSearchCV took 4.52 seconds for 10 candidates parameter settings.\n",
      "Model with rank: 1\n",
      "Mean validation score: 0.932 (std: 0.013)\n",
      "Parameters: {'C': 0.1}\n",
      "\n",
      "Model with rank: 2\n",
      "Mean validation score: 0.932 (std: 0.016)\n",
      "Parameters: {'C': 1}\n",
      "\n",
      "Model with rank: 3\n",
      "Mean validation score: 0.932 (std: 0.008)\n",
      "Parameters: {'C': 0.01}\n",
      "\n",
      "             precision    recall  f1-score   support\n",
      "\n",
      "          0       0.84      0.98      0.91      1233\n",
      "          1       0.69      0.21      0.32       284\n",
      "\n",
      "avg / total       0.81      0.83      0.80      1517\n",
      "\n",
      "[[1206   27]\n",
      " [ 225   59]]\n",
      "Accuracy: 0.833882663151\n"
     ]
    }
   ],
   "source": [
    "# Randomized search with cross validation to find best set of params\n",
    "\n",
    "from time import time\n",
    "from scipy.stats import randint as sp_randint\n",
    "\n",
    "from sklearn.model_selection import GridSearchCV\n",
    "from sklearn.model_selection import RandomizedSearchCV\n",
    "\n",
    "# Utility function to report best scores\n",
    "def report(results, n_top=3):\n",
    "    for i in range(1, n_top + 1):\n",
    "        candidates = np.flatnonzero(results['rank_test_score'] == i)\n",
    "        for candidate in candidates:\n",
    "            print(\"Model with rank: {0}\".format(i))\n",
    "            print(\"Mean validation score: {0:.3f} (std: {1:.3f})\".format(\n",
    "                  results['mean_test_score'][candidate],\n",
    "                  results['std_test_score'][candidate]))\n",
    "            print(\"Parameters: {0}\".format(results['params'][candidate]))\n",
    "            print(\"\")\n",
    "\n",
    "# specify parameters and distributions to sample from\n",
    "param_dist = {\"C\": [10, 5, 2, 1, 0.5, 0.3, 0.1, 0.05, 0.03, 0.01, 0.005, 0.003, 0.001, 0.0005]}\n",
    "clf = linear_model.LogisticRegression()\n",
    "\n",
    "n_iter_search = 10\n",
    "random_search = RandomizedSearchCV(clf, param_distributions=param_dist,\n",
    "                                   n_iter=n_iter_search,\n",
    "                                   cv=5,\n",
    "                                   random_state=457319)\n",
    "\n",
    "start = time()\n",
    "random_search.fit(X_comb_scaledsim_train, y_train)\n",
    "y_pred = random_search.predict(X_comb_scaledsim_test)\n",
    "\n",
    "print(\"RandomizedSearchCV took %.2f seconds for %d candidates\"\n",
    "      \" parameter settings.\" % ((time() - start), n_iter_search))\n",
    "report(random_search.cv_results_)\n",
    "\n",
    "y_prob = random_search.predict_proba(X_comb_scaledsim_test)\n",
    "\n",
    "#write result to file\n",
    "predict_for_test(y_test, y_pred, y_prob, \"./test_res/rand1-log-qa-test.txt\")\n",
    "\n",
    "\n",
    "# Compute metrics\n",
    "print(classification_report(y_test, y_pred))\n",
    "print(confusion_matrix(y_test, y_pred))\n",
    "print(\"Accuracy: {}\".format(accuracy_score(y_test, y_pred)))"
   ]
  },
  {
   "cell_type": "code",
   "execution_count": 30,
   "metadata": {
    "collapsed": false
   },
   "outputs": [
    {
     "name": "stdout",
     "output_type": "stream",
     "text": [
      "RandomizedSearchCV took 1.71 seconds for 10 candidates parameter settings.\n",
      "Model with rank: 1\n",
      "Mean validation score: 0.930 (std: 0.012)\n",
      "Parameters: {'C': 0.1}\n",
      "\n",
      "Model with rank: 2\n",
      "Mean validation score: 0.929 (std: 0.011)\n",
      "Parameters: {'C': 0.01}\n",
      "\n",
      "Model with rank: 2\n",
      "Mean validation score: 0.929 (std: 0.011)\n",
      "Parameters: {'C': 2}\n",
      "\n",
      "Model with rank: 2\n",
      "Mean validation score: 0.929 (std: 0.011)\n",
      "Parameters: {'C': 10}\n",
      "\n",
      "             precision    recall  f1-score   support\n",
      "\n",
      "          0       0.83      0.98      0.90      1233\n",
      "          1       0.66      0.15      0.25       284\n",
      "\n",
      "avg / total       0.80      0.83      0.78      1517\n",
      "\n",
      "[[1210   23]\n",
      " [ 240   44]]\n",
      "Accuracy: 0.826631509558\n"
     ]
    }
   ],
   "source": [
    "# Randomized search with cross validation to find best set of params\n",
    "\n",
    "from time import time\n",
    "from scipy.stats import randint as sp_randint\n",
    "\n",
    "from sklearn.model_selection import GridSearchCV\n",
    "from sklearn.model_selection import RandomizedSearchCV\n",
    "\n",
    "# Utility function to report best scores\n",
    "def report(results, n_top=3):\n",
    "    for i in range(1, n_top + 1):\n",
    "        candidates = np.flatnonzero(results['rank_test_score'] == i)\n",
    "        for candidate in candidates:\n",
    "            print(\"Model with rank: {0}\".format(i))\n",
    "            print(\"Mean validation score: {0:.3f} (std: {1:.3f})\".format(\n",
    "                  results['mean_test_score'][candidate],\n",
    "                  results['std_test_score'][candidate]))\n",
    "            print(\"Parameters: {0}\".format(results['params'][candidate]))\n",
    "            print(\"\")\n",
    "\n",
    "# specify parameters and distributions to sample from\n",
    "param_dist = {\"C\": [10, 5, 2, 1, 0.5, 0.3, 0.1, 0.05, 0.03, 0.01, 0.005, 0.003, 0.001, 0.0005]}\n",
    "clf = linear_model.LogisticRegression()\n",
    "\n",
    "n_iter_search = 10\n",
    "random_search = RandomizedSearchCV(clf, param_distributions=param_dist,\n",
    "                                   n_iter=n_iter_search,\n",
    "                                   cv=5,\n",
    "                                   random_state=457319)\n",
    "\n",
    "start = time()\n",
    "random_search.fit(X_pca_train, y_train)\n",
    "y_pred = random_search.predict(X_pca_test)\n",
    "\n",
    "print(\"RandomizedSearchCV took %.2f seconds for %d candidates\"\n",
    "      \" parameter settings.\" % ((time() - start), n_iter_search))\n",
    "report(random_search.cv_results_)\n",
    "\n",
    "y_prob = random_search.predict_proba(X_pca_test)\n",
    "\n",
    "#write result to file\n",
    "predict_for_test(y_test, y_pred, y_prob, \"./test_res/rand2-log-qa-test.txt\")\n",
    "\n",
    "# Compute metrics\n",
    "print(classification_report(y_test, y_pred))\n",
    "print(confusion_matrix(y_test, y_pred))\n",
    "print(\"Accuracy: {}\".format(accuracy_score(y_test, y_pred)))"
   ]
  },
  {
   "cell_type": "markdown",
   "metadata": {},
   "source": [
    "# Train using Random Forest"
   ]
  },
  {
   "cell_type": "code",
   "execution_count": 31,
   "metadata": {
    "collapsed": false
   },
   "outputs": [
    {
     "name": "stdout",
     "output_type": "stream",
     "text": [
      "             precision    recall  f1-score   support\n",
      "\n",
      "          0       0.84      0.98      0.90      1233\n",
      "          1       0.66      0.20      0.31       284\n",
      "\n",
      "avg / total       0.81      0.83      0.79      1517\n",
      "\n",
      "Accuracy score: 0.831245880026\n"
     ]
    }
   ],
   "source": [
    "# Jacana only\n",
    "clf = RandomForestClassifier(n_estimators=300,\n",
    "                             max_depth=12,\n",
    "#                              min_samples_split=4,\n",
    "                             criterion=\"entropy\",\n",
    "                             random_state=3471,\n",
    "                             class_weight=\"balanced\"\n",
    "                            )\n",
    "clf = clf.fit(X_train, y_train)\n",
    "y_pred = clf.predict(X_test)\n",
    "\n",
    "y_prob = clf.predict_proba(X_test)\n",
    "\n",
    "#write result to file\n",
    "predict_for_test(y_test, y_pred, y_prob, \"./test_res/jacana-rf-qa-test.txt\")\n",
    "\n",
    "print(classification_report(y_test, y_pred))\n",
    "print(\"Accuracy score: {}\".format(accuracy_score(y_test, y_pred)))"
   ]
  },
  {
   "cell_type": "code",
   "execution_count": 32,
   "metadata": {
    "collapsed": false
   },
   "outputs": [
    {
     "name": "stdout",
     "output_type": "stream",
     "text": [
      "             precision    recall  f1-score   support\n",
      "\n",
      "          0       0.84      0.98      0.91      1233\n",
      "          1       0.69      0.22      0.33       284\n",
      "\n",
      "avg / total       0.82      0.84      0.80      1517\n",
      "\n",
      "Accuracy score: 0.835201054713\n"
     ]
    }
   ],
   "source": [
    "# Jacana with similarity scores features. Both types of features scaled.\n",
    "clf = RandomForestClassifier(n_estimators=400,\n",
    "                             max_depth=12,\n",
    "                             min_samples_split=4,\n",
    "                             criterion=\"entropy\",\n",
    "                             random_state=3471,\n",
    "                             class_weight=\"balanced_subsample\"\n",
    "                            )\n",
    "clf = clf.fit(X_combined_train, y_train)\n",
    "y_pred = clf.predict(X_combined_test)\n",
    "\n",
    "y_prob = clf.predict_proba(X_combined_test)\n",
    "\n",
    "#write result to file\n",
    "predict_for_test(y_test, y_pred, y_prob, \"./test_res/scaledsim-rf-qa-test.txt\")\n",
    "\n",
    "print(classification_report(y_test, y_pred))\n",
    "print(\"Accuracy score: {}\".format(accuracy_score(y_test, y_pred)))"
   ]
  },
  {
   "cell_type": "markdown",
   "metadata": {},
   "source": [
    "### Use randomized search to find good parameters"
   ]
  },
  {
   "cell_type": "code",
   "execution_count": 35,
   "metadata": {
    "collapsed": false
   },
   "outputs": [
    {
     "name": "stdout",
     "output_type": "stream",
     "text": [
      "RandomizedSearchCV took 88.44 seconds for 10 candidates parameter settings.\n",
      "Model with rank: 1\n",
      "Mean validation score: 0.929 (std: 0.003)\n",
      "Parameters: {'min_samples_leaf': 2, 'n_estimators': 200, 'criterion': 'gini', 'min_samples_split': 2, 'max_depth': 16, 'class_weight': None}\n",
      "\n",
      "Model with rank: 2\n",
      "Mean validation score: 0.929 (std: 0.002)\n",
      "Parameters: {'min_samples_leaf': 2, 'n_estimators': 250, 'criterion': 'entropy', 'min_samples_split': 6, 'max_depth': 16, 'class_weight': None}\n",
      "\n",
      "Model with rank: 3\n",
      "Mean validation score: 0.928 (std: 0.002)\n",
      "Parameters: {'min_samples_leaf': 2, 'n_estimators': 250, 'criterion': 'entropy', 'min_samples_split': 6, 'max_depth': 8, 'class_weight': None}\n",
      "\n",
      "             precision    recall  f1-score   support\n",
      "\n",
      "          0       0.82      1.00      0.90      1233\n",
      "          1       0.76      0.05      0.09       284\n",
      "\n",
      "avg / total       0.81      0.82      0.75      1517\n",
      "\n",
      "[[1229    4]\n",
      " [ 271   13]]\n",
      "Accuracy: 0.818721160185\n"
     ]
    }
   ],
   "source": [
    "# Jacana only\n",
    "from time import time\n",
    "from sklearn.model_selection import GridSearchCV\n",
    "from sklearn.model_selection import RandomizedSearchCV\n",
    "\n",
    "# Utility function to report best scores\n",
    "def report(results, n_top=3):\n",
    "    for i in range(1, n_top + 1):\n",
    "        candidates = np.flatnonzero(results['rank_test_score'] == i)\n",
    "        for candidate in candidates:\n",
    "            print(\"Model with rank: {0}\".format(i))\n",
    "            print(\"Mean validation score: {0:.3f} (std: {1:.3f})\".format(\n",
    "                  results['mean_test_score'][candidate],\n",
    "                  results['std_test_score'][candidate]))\n",
    "            print(\"Parameters: {0}\".format(results['params'][candidate]))\n",
    "            print(\"\")\n",
    "\n",
    "# specify parameters and distributions to sample from\n",
    "param_dist = {\"max_depth\": [8, 12, 16],\n",
    "              \"min_samples_split\": [2, 4, 6],\n",
    "              \"criterion\": [\"gini\", \"entropy\"],\n",
    "              \"min_samples_leaf\": [1, 2, 3],\n",
    "              \"n_estimators\": [200, 250, 300],\n",
    "              \"class_weight\": [None, \"balanced\", \"balanced_subsample\"]}\n",
    "\n",
    "clf = RandomForestClassifier()\n",
    "n_iter_search = 10\n",
    "random_search = RandomizedSearchCV(clf, param_distributions=param_dist,\n",
    "                                   n_iter=n_iter_search,\n",
    "                                   cv=5,\n",
    "                                   random_state=83716)\n",
    "\n",
    "start = time()\n",
    "random_search.fit(X_train, y_train)\n",
    "y_pred = random_search.predict(X_test)\n",
    "print(\"RandomizedSearchCV took %.2f seconds for %d candidates\"\n",
    "      \" parameter settings.\" % ((time() - start), n_iter_search))\n",
    "report(random_search.cv_results_)\n",
    "\n",
    "y_prob = random_search.predict_proba(X_test)\n",
    "\n",
    "#write result to file\n",
    "predict_for_test(y_test, y_pred, y_prob, \"./test_res/rand1-rf-qa-test.txt\")\n",
    "\n",
    "# Compute metrics\n",
    "print(classification_report(y_test, y_pred))\n",
    "print(confusion_matrix(y_test, y_pred))\n",
    "print(\"Accuracy: {}\".format(accuracy_score(y_test, y_pred)))"
   ]
  },
  {
   "cell_type": "code",
   "execution_count": 36,
   "metadata": {
    "collapsed": false
   },
   "outputs": [
    {
     "name": "stdout",
     "output_type": "stream",
     "text": [
      "RandomizedSearchCV took 92.87 seconds for 10 candidates parameter settings.\n",
      "Model with rank: 1\n",
      "Mean validation score: 0.928 (std: 0.002)\n",
      "Parameters: {'min_samples_leaf': 2, 'n_estimators': 250, 'criterion': 'entropy', 'min_samples_split': 6, 'max_depth': 8, 'class_weight': None}\n",
      "\n",
      "Model with rank: 2\n",
      "Mean validation score: 0.928 (std: 0.003)\n",
      "Parameters: {'min_samples_leaf': 2, 'n_estimators': 200, 'criterion': 'gini', 'min_samples_split': 2, 'max_depth': 16, 'class_weight': None}\n",
      "\n",
      "Model with rank: 2\n",
      "Mean validation score: 0.928 (std: 0.003)\n",
      "Parameters: {'min_samples_leaf': 2, 'n_estimators': 250, 'criterion': 'entropy', 'min_samples_split': 6, 'max_depth': 16, 'class_weight': None}\n",
      "\n",
      "             precision    recall  f1-score   support\n",
      "\n",
      "          0       0.82      1.00      0.90      1233\n",
      "          1       0.74      0.06      0.11       284\n",
      "\n",
      "avg / total       0.81      0.82      0.75      1517\n",
      "\n",
      "[[1227    6]\n",
      " [ 267   17]]\n",
      "Accuracy: 0.820039551747\n"
     ]
    }
   ],
   "source": [
    "# Jacana with similarity scores features. Only similarity scores are scaled.\n",
    "start = time()\n",
    "random_search.fit(X_comb_scaledsim_train, y_train)\n",
    "y_pred = random_search.predict(X_comb_scaledsim_test)\n",
    "print(\"RandomizedSearchCV took %.2f seconds for %d candidates\"\n",
    "      \" parameter settings.\" % ((time() - start), n_iter_search))\n",
    "report(random_search.cv_results_)\n",
    "\n",
    "y_prob = random_search.predict_proba(X_comb_scaledsim_test)\n",
    "\n",
    "#write result to file\n",
    "predict_for_test(y_test, y_pred, y_prob, \"./test_res/rand2-rf-qa-test.txt\")\n",
    "\n",
    "# Compute metrics\n",
    "print(classification_report(y_test, y_pred))\n",
    "print(confusion_matrix(y_test, y_pred))\n",
    "print(\"Accuracy: {}\".format(accuracy_score(y_test, y_pred)))"
   ]
  },
  {
   "cell_type": "markdown",
   "metadata": {},
   "source": [
    "## Train using GradientBoostingMachine"
   ]
  },
  {
   "cell_type": "code",
   "execution_count": null,
   "metadata": {
    "collapsed": true
   },
   "outputs": [],
   "source": []
  },
  {
   "cell_type": "markdown",
   "metadata": {},
   "source": [
    "## Use RF to embed features then train using LR"
   ]
  },
  {
   "cell_type": "code",
   "execution_count": null,
   "metadata": {
    "collapsed": true
   },
   "outputs": [],
   "source": []
  }
 ],
 "metadata": {
  "kernelspec": {
   "display_name": "Python 2",
   "language": "python",
   "name": "python2"
  },
  "language_info": {
   "codemirror_mode": {
    "name": "ipython",
    "version": 2
   },
   "file_extension": ".py",
   "mimetype": "text/x-python",
   "name": "python",
   "nbconvert_exporter": "python",
   "pygments_lexer": "ipython2",
   "version": "2.7.13"
  }
 },
 "nbformat": 4,
 "nbformat_minor": 0
}
