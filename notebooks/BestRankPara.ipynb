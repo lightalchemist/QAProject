{
 "cells": [
  {
   "cell_type": "code",
   "execution_count": 2,
   "metadata": {
    "collapsed": true
   },
   "outputs": [],
   "source": [
    "import os\n",
    "def find_best_para(filepath):\n",
    "    \"\"\"This function reads in a script output of TREC scores and find the best MAP and MRR and their file names\"\"\"\n",
    "    with open(filepath) as f:\n",
    "        outputs = f.readlines()\n",
    "    outputs = outputs[1:]\n",
    "    max_dev_MAP = [0, None]\n",
    "    max_dev_MRR = [0, None]\n",
    "    max_test_MAP = [0, None]\n",
    "    max_test_MRR = [0, None]\n",
    "    print len(outputs)\n",
    "    #dev\n",
    "    for i in range(0, len(outputs) / 2, 3):\n",
    "        MAP = float(outputs[i + 1].split()[-1])\n",
    "        if MAP > max_dev_MAP[0]:\n",
    "            max_dev_MAP = [MAP, outputs[i]]\n",
    "        MRR = float(outputs[i + 2].split()[-1])\n",
    "        if MRR > max_dev_MRR[0]:\n",
    "            max_dev_MRR = [MRR, outputs[i]]\n",
    "            \n",
    "    print \"=============max dev============\"\n",
    "    print \"max_dev_MAP: \", max_dev_MAP\n",
    "    print \"max_dev_MRR: \", max_dev_MRR\n",
    "    \n",
    "    #test\n",
    "    for i in range((len(outputs) / 2), len(outputs), 3):\n",
    "        map_dev_dir = (max_dev_MAP[1].split(\"/\"))[-1]\n",
    "        mrr_dev_dir = (max_dev_MRR[1].split(\"/\"))[-1]\n",
    "        cur_dir = (outputs[i].split(\"/\"))[-1]        \n",
    "        MAP = float(outputs[i + 1].split()[-1])\n",
    "        if MAP > max_test_MAP[0]:\n",
    "            max_test_MAP = [MAP, outputs[i]]\n",
    "        MRR = float(outputs[i + 2].split()[-1])\n",
    "        if MRR > max_test_MRR[0]:\n",
    "            max_test_MRR = [MRR, outputs[i]]\n",
    "            \n",
    "        if cur_dir == map_dev_dir:\n",
    "            print \"=========test correspond to max dev MAP======\"\n",
    "            print [MAP, outputs[i]]\n",
    "            print [MRR, outputs[i]]\n",
    "        if cur_dir == mrr_dev_dir:\n",
    "            print \"=========test correspond to max dev MRR======\"\n",
    "            print [MAP, outputs[i]]\n",
    "            print [MRR, outputs[i]]\n",
    "    \n",
    "    print \"============max test============\"\n",
    "    print \"max_test_MAP: \", max_test_MAP\n",
    "    print \"max_test_MRR: \", max_test_MRR\n",
    "    "
   ]
  },
  {
   "cell_type": "code",
   "execution_count": 2,
   "metadata": {
    "collapsed": false
   },
   "outputs": [
    {
     "name": "stdout",
     "output_type": "stream",
     "text": [
      "42\n",
      "=============max dev============\n",
      "max_dev_MAP:  [0.5378, 'TREC Scores of test_res/NB-dev/NB-2:\\n']\n",
      "max_dev_MRR:  [0.6034, 'TREC Scores of test_res/NB-dev/NB-1:\\n']\n",
      "=========test correspond to max dev MRR======\n",
      "[0.5435, 'TREC Scores of test_res/NB-test/NB-1:\\n']\n",
      "[0.6175, 'TREC Scores of test_res/NB-test/NB-1:\\n']\n",
      "=========test correspond to max dev MAP======\n",
      "[0.5506, 'TREC Scores of test_res/NB-test/NB-2:\\n']\n",
      "[0.6272, 'TREC Scores of test_res/NB-test/NB-2:\\n']\n",
      "============max test============\n",
      "max_test_MAP:  [0.5506, 'TREC Scores of test_res/NB-test/NB-2:\\n']\n",
      "max_test_MRR:  [0.6272, 'TREC Scores of test_res/NB-test/NB-2:\\n']\n"
     ]
    }
   ],
   "source": [
    "NB_path = \"../myclassify/NB_ranking_res.txt\"\n",
    "find_best_para(NB_path)"
   ]
  },
  {
   "cell_type": "code",
   "execution_count": 3,
   "metadata": {
    "collapsed": false
   },
   "outputs": [
    {
     "name": "stdout",
     "output_type": "stream",
     "text": [
      "120\n",
      "=============max dev============\n",
      "max_dev_MAP:  [0.695, 'TREC Scores of test_res/GB-dev/GB-100-2:\\n']\n",
      "max_dev_MRR:  [0.7421, 'TREC Scores of test_res/GB-dev/GB-400-6:\\n']\n",
      "=========test correspond to max dev MAP======\n",
      "[0.6288, 'TREC Scores of test_res/GB-test/GB-100-2:\\n']\n",
      "[0.7033, 'TREC Scores of test_res/GB-test/GB-100-2:\\n']\n",
      "=========test correspond to max dev MRR======\n",
      "[0.5839, 'TREC Scores of test_res/GB-test/GB-400-6:\\n']\n",
      "[0.6605, 'TREC Scores of test_res/GB-test/GB-400-6:\\n']\n",
      "============max test============\n",
      "max_test_MAP:  [0.6337, 'TREC Scores of test_res/GB-test/GB-400-2:\\n']\n",
      "max_test_MRR:  [0.7124, 'TREC Scores of test_res/GB-test/GB-400-2:\\n']\n"
     ]
    }
   ],
   "source": [
    "GB_path = \"../myclassify/GB_ranking_res.txt\"\n",
    "find_best_para(GB_path)"
   ]
  },
  {
   "cell_type": "code",
   "execution_count": 4,
   "metadata": {
    "collapsed": false
   },
   "outputs": [
    {
     "name": "stdout",
     "output_type": "stream",
     "text": [
      "2880\n",
      "=============max dev============\n",
      "max_dev_MAP:  [0.7065, 'TREC Scores of test_res/RF-dev/RF-150-entropy-8-2-None:\\n']\n",
      "max_dev_MRR:  [0.7818, 'TREC Scores of test_res/RF-dev/RF-150-entropy-16-8-balanced:\\n']\n",
      "=========test correspond to max dev MRR======\n",
      "[0.62, 'TREC Scores of test_res/RF-test/RF-150-entropy-16-8-balanced:\\n']\n",
      "[0.6986, 'TREC Scores of test_res/RF-test/RF-150-entropy-16-8-balanced:\\n']\n",
      "=========test correspond to max dev MAP======\n",
      "[0.6079, 'TREC Scores of test_res/RF-test/RF-150-entropy-8-2-None:\\n']\n",
      "[0.6799, 'TREC Scores of test_res/RF-test/RF-150-entropy-8-2-None:\\n']\n",
      "============max test============\n",
      "max_test_MAP:  [0.6458, 'TREC Scores of test_res/RF-test/RF-200-entropy-16-6-balanced:\\n']\n",
      "max_test_MRR:  [0.749, 'TREC Scores of test_res/RF-test/RF-100-gini-20-2-balanced_subsample:\\n']\n"
     ]
    }
   ],
   "source": [
    "RF_path = \"../myclassify/RF_ranking_res.txt\"\n",
    "find_best_para(RF_path)"
   ]
  },
  {
   "cell_type": "code",
   "execution_count": 6,
   "metadata": {
    "collapsed": false
   },
   "outputs": [
    {
     "name": "stdout",
     "output_type": "stream",
     "text": [
      "72\n",
      "=============max dev============\n",
      "max_dev_MAP:  [0.7117, 'TREC Scores of test_res/LG-dev/LG-l2-0.1:\\n']\n",
      "max_dev_MRR:  [0.7886, 'TREC Scores of test_res/LG-dev/LG-l1-10:\\n']\n",
      "=========test correspond to max dev MRR======\n",
      "[0.6247, 'TREC Scores of test_res/LG-test/LG-l1-10:\\n']\n",
      "[0.7327, 'TREC Scores of test_res/LG-test/LG-l1-10:\\n']\n",
      "=========test correspond to max dev MAP======\n",
      "[0.6297, 'TREC Scores of test_res/LG-test/LG-l2-0.1:\\n']\n",
      "[0.7277, 'TREC Scores of test_res/LG-test/LG-l2-0.1:\\n']\n",
      "============max test============\n",
      "max_test_MAP:  [0.6345, 'TREC Scores of test_res/LG-test/LG-l1-1:\\n']\n",
      "max_test_MRR:  [0.7399, 'TREC Scores of test_res/LG-test/LG-l2-100:\\n']\n"
     ]
    }
   ],
   "source": [
    "LG_path = \"../myclassify/LG_ranking_res.txt\"\n",
    "find_best_para(LG_path)"
   ]
  },
  {
   "cell_type": "code",
   "execution_count": 9,
   "metadata": {
    "collapsed": false,
    "scrolled": true
   },
   "outputs": [
    {
     "name": "stdout",
     "output_type": "stream",
     "text": [
      "72\n",
      "=============max dev============\n",
      "max_dev_MAP:  [0.733, 'TREC Scores of test_res/LGSIM-dev/LGSIM-l2-0.1:\\n']\n",
      "max_dev_MRR:  [0.8019, 'TREC Scores of test_res/LGSIM-dev/LGSIM-l2-0.1:\\n']\n",
      "=========test correspond to max dev MAP======\n",
      "[0.6635, 'TREC Scores of test_res/LGSIM-test/LGSIM-l2-0.1:\\n']\n",
      "[0.741, 'TREC Scores of test_res/LGSIM-test/LGSIM-l2-0.1:\\n']\n",
      "=========test correspond to max dev MRR======\n",
      "[0.6635, 'TREC Scores of test_res/LGSIM-test/LGSIM-l2-0.1:\\n']\n",
      "[0.741, 'TREC Scores of test_res/LGSIM-test/LGSIM-l2-0.1:\\n']\n",
      "============max test============\n",
      "max_test_MAP:  [0.6776, 'TREC Scores of test_res/LGSIM-test/LGSIM-l1-0.1:\\n']\n",
      "max_test_MRR:  [0.7651, 'TREC Scores of test_res/LGSIM-test/LGSIM-l2-1:\\n']\n"
     ]
    }
   ],
   "source": [
    "LGSIM_path = \"../myclassify/LGSIM_ranking_res.txt\"\n",
    "find_best_para(LGSIM_path)"
   ]
  },
  {
   "cell_type": "code",
   "execution_count": 10,
   "metadata": {
    "collapsed": false
   },
   "outputs": [
    {
     "name": "stdout",
     "output_type": "stream",
     "text": [
      "2880\n",
      "=============max dev============\n",
      "max_dev_MAP:  [0.7544, 'TREC Scores of test_res/RFSIM-dev/RFSIM-200-entropy-11-2-None:\\n']\n",
      "max_dev_MRR:  [0.8185, 'TREC Scores of test_res/RFSIM-dev/RFSIM-300-entropy-16-8-balanced_subsample:\\n']\n",
      "=========test correspond to max dev MAP======\n",
      "[0.6564, 'TREC Scores of test_res/RFSIM-test/RFSIM-200-entropy-11-2-None:\\n']\n",
      "[0.7307, 'TREC Scores of test_res/RFSIM-test/RFSIM-200-entropy-11-2-None:\\n']\n",
      "=========test correspond to max dev MRR======\n",
      "[0.6581, 'TREC Scores of test_res/RFSIM-test/RFSIM-300-entropy-16-8-balanced_subsample:\\n']\n",
      "[0.7367, 'TREC Scores of test_res/RFSIM-test/RFSIM-300-entropy-16-8-balanced_subsample:\\n']\n",
      "============max test============\n",
      "max_test_MAP:  [0.682, 'TREC Scores of test_res/RFSIM-test/RFSIM-150-entropy-11-4-None:\\n']\n",
      "max_test_MRR:  [0.7721, 'TREC Scores of test_res/RFSIM-test/RFSIM-100-entropy-16-4-balanced_subsample:\\n']\n"
     ]
    }
   ],
   "source": [
    "RFSIM_path = \"../myclassify/RFSIM_ranking_res.txt\"\n",
    "find_best_para(RFSIM_path)"
   ]
  },
  {
   "cell_type": "code",
   "execution_count": 11,
   "metadata": {
    "collapsed": false
   },
   "outputs": [
    {
     "name": "stdout",
     "output_type": "stream",
     "text": [
      "120\n",
      "=============max dev============\n",
      "max_dev_MAP:  [0.7244, 'TREC Scores of test_res/GBSIM-dev/GBSIM-50-2:\\n']\n",
      "max_dev_MRR:  [0.7787, 'TREC Scores of test_res/GBSIM-dev/GBSIM-400-3:\\n']\n",
      "=========test correspond to max dev MRR======\n",
      "[0.6189, 'TREC Scores of test_res/GBSIM-test/GBSIM-400-3:\\n']\n",
      "[0.7149, 'TREC Scores of test_res/GBSIM-test/GBSIM-400-3:\\n']\n",
      "=========test correspond to max dev MAP======\n",
      "[0.6568, 'TREC Scores of test_res/GBSIM-test/GBSIM-50-2:\\n']\n",
      "[0.7447, 'TREC Scores of test_res/GBSIM-test/GBSIM-50-2:\\n']\n",
      "============max test============\n",
      "max_test_MAP:  [0.6675, 'TREC Scores of test_res/GBSIM-test/GBSIM-100-3:\\n']\n",
      "max_test_MRR:  [0.7456, 'TREC Scores of test_res/GBSIM-test/GBSIM-100-3:\\n']\n"
     ]
    }
   ],
   "source": [
    "GBSIM_path = \"../myclassify/GBSIM_ranking_res.txt\"\n",
    "find_best_para(GBSIM_path)"
   ]
  },
  {
   "cell_type": "code",
   "execution_count": 13,
   "metadata": {
    "collapsed": false
   },
   "outputs": [
    {
     "name": "stdout",
     "output_type": "stream",
     "text": [
      "42\n",
      "=============max dev============\n",
      "max_dev_MAP:  [0.5787, 'TREC Scores of test_res/NBSIM-dev/NBSIM-1:\\n']\n",
      "max_dev_MRR:  [0.6464, 'TREC Scores of test_res/NBSIM-dev/NBSIM-1:\\n']\n",
      "=========test correspond to max dev MAP======\n",
      "[0.5992, 'TREC Scores of test_res/NBSIM-test/NBSIM-1:\\n']\n",
      "[0.6594, 'TREC Scores of test_res/NBSIM-test/NBSIM-1:\\n']\n",
      "=========test correspond to max dev MRR======\n",
      "[0.5992, 'TREC Scores of test_res/NBSIM-test/NBSIM-1:\\n']\n",
      "[0.6594, 'TREC Scores of test_res/NBSIM-test/NBSIM-1:\\n']\n",
      "============max test============\n",
      "max_test_MAP:  [0.6001, 'TREC Scores of test_res/NBSIM-test/NBSIM-0.01:\\n']\n",
      "max_test_MRR:  [0.6624, 'TREC Scores of test_res/NBSIM-test/NBSIM-2:\\n']\n"
     ]
    }
   ],
   "source": [
    "NBSIM_path = \"../myclassify/NBSIM_ranking_res.txt\"\n",
    "find_best_para(NBSIM_path)"
   ]
  },
  {
   "cell_type": "code",
   "execution_count": 14,
   "metadata": {
    "collapsed": false
   },
   "outputs": [
    {
     "name": "stdout",
     "output_type": "stream",
     "text": [
      "2880\n",
      "=============max dev============\n",
      "max_dev_MAP:  [0.7226, 'TREC Scores of test_res/RPLG-dev/LG-0.5-0.75-3-1.5-1:\\n']\n",
      "max_dev_MRR:  [0.7957, 'TREC Scores of test_res/RPLG-dev/LG-0.5-0.5-3-1.5-1:\\n']\n",
      "=========test correspond to max dev MRR======\n",
      "[0.6413, 'TREC Scores of test_res/RPLG-test/LG-0.5-0.5-3-1.5-1:\\n']\n",
      "[0.7401, 'TREC Scores of test_res/RPLG-test/LG-0.5-0.5-3-1.5-1:\\n']\n",
      "=========test correspond to max dev MAP======\n",
      "[0.6421, 'TREC Scores of test_res/RPLG-test/LG-0.5-0.75-3-1.5-1:\\n']\n",
      "[0.7397, 'TREC Scores of test_res/RPLG-test/LG-0.5-0.75-3-1.5-1:\\n']\n",
      "============max test============\n",
      "max_test_MAP:  [0.6468, 'TREC Scores of test_res/RPLG-test/LG-0.5-1.0-5-2.0-1:\\n']\n",
      "max_test_MRR:  [0.7548, 'TREC Scores of test_res/RPLG-test/LG-1.5-1.0-3-0-2:\\n']\n"
     ]
    }
   ],
   "source": [
    "RPLG_path = \"../myclassify/RPLG_ranking_res.txt\"\n",
    "find_best_para(RPLG_path)"
   ]
  },
  {
   "cell_type": "code",
   "execution_count": 15,
   "metadata": {
    "collapsed": false
   },
   "outputs": [
    {
     "name": "stdout",
     "output_type": "stream",
     "text": [
      "2880\n",
      "=============max dev============\n",
      "max_dev_MAP:  [0.7594, 'TREC Scores of test_res/RPRFSIM-dev/RFSIM-2.0-0.75-3-0-2:\\n']\n",
      "max_dev_MRR:  [0.8445, 'TREC Scores of test_res/RPRFSIM-dev/RFSIM-2.0-0.75-3-0-2:\\n']\n",
      "=========test correspond to max dev MAP======\n",
      "[0.6534, 'TREC Scores of test_res/RPRFSIM-test/RFSIM-2.0-0.75-3-0-2:\\n']\n",
      "[0.7372, 'TREC Scores of test_res/RPRFSIM-test/RFSIM-2.0-0.75-3-0-2:\\n']\n",
      "=========test correspond to max dev MRR======\n",
      "[0.6534, 'TREC Scores of test_res/RPRFSIM-test/RFSIM-2.0-0.75-3-0-2:\\n']\n",
      "[0.7372, 'TREC Scores of test_res/RPRFSIM-test/RFSIM-2.0-0.75-3-0-2:\\n']\n",
      "============max test============\n",
      "max_test_MAP:  [0.6743, 'TREC Scores of test_res/RPRFSIM-test/RFSIM-0.5-0.75-3-1.5-1:\\n']\n",
      "max_test_MRR:  [0.7529, 'TREC Scores of test_res/RPRFSIM-test/RFSIM-0.5-0.75-3-1.25-1:\\n']\n"
     ]
    }
   ],
   "source": [
    "RPRFSIM_path = \"../myclassify/RPRFSIM_ranking_res.txt\"\n",
    "find_best_para(RPRFSIM_path)"
   ]
  },
  {
   "cell_type": "code",
   "execution_count": 16,
   "metadata": {
    "collapsed": false
   },
   "outputs": [
    {
     "name": "stdout",
     "output_type": "stream",
     "text": [
      "2880\n",
      "=============max dev============\n",
      "max_dev_MAP:  [0.7389, 'TREC Scores of test_res/RPGBSIM-dev/GBSIM-2.0-1.0-3-0-2:\\n']\n",
      "max_dev_MRR:  [0.7787, 'TREC Scores of test_res/RPGBSIM-dev/GBSIM-1.5-0.5-5-0-2:\\n']\n",
      "=========test correspond to max dev MRR======\n",
      "[0.6595, 'TREC Scores of test_res/RPGBSIM-test/GBSIM-1.5-0.5-5-0-2:\\n']\n",
      "[0.7667, 'TREC Scores of test_res/RPGBSIM-test/GBSIM-1.5-0.5-5-0-2:\\n']\n",
      "=========test correspond to max dev MAP======\n",
      "[0.6597, 'TREC Scores of test_res/RPGBSIM-test/GBSIM-2.0-1.0-3-0-2:\\n']\n",
      "[0.7594, 'TREC Scores of test_res/RPGBSIM-test/GBSIM-2.0-1.0-3-0-2:\\n']\n",
      "============max test============\n",
      "max_test_MAP:  [0.6865, 'TREC Scores of test_res/RPGBSIM-test/GBSIM-1.5-1.5-3-2.0-1:\\n']\n",
      "max_test_MRR:  [0.7883, 'TREC Scores of test_res/RPGBSIM-test/GBSIM-2.0-0.75-3-1.5-1:\\n']\n"
     ]
    }
   ],
   "source": [
    "RPGBSIM_path = \"../myclassify/RPGBSIM_ranking_res.txt\"\n",
    "find_best_para(RPGBSIM_path)"
   ]
  },
  {
   "cell_type": "code",
   "execution_count": 17,
   "metadata": {
    "collapsed": false
   },
   "outputs": [
    {
     "name": "stdout",
     "output_type": "stream",
     "text": [
      "2880\n",
      "=============max dev============\n",
      "max_dev_MAP:  [0.5736, 'TREC Scores of test_res/RPNB-dev/NB-0.5-1.0-5-2.0-1:\\n']\n",
      "max_dev_MRR:  [0.632, 'TREC Scores of test_res/RPNB-dev/NB-0.5-0.5-3-2.0-1:\\n']\n",
      "=========test correspond to max dev MRR======\n",
      "[0.5748, 'TREC Scores of test_res/RPNB-test/NB-0.5-0.5-3-2.0-1:\\n']\n",
      "[0.6435, 'TREC Scores of test_res/RPNB-test/NB-0.5-0.5-3-2.0-1:\\n']\n",
      "=========test correspond to max dev MAP======\n",
      "[0.5779, 'TREC Scores of test_res/RPNB-test/NB-0.5-1.0-5-2.0-1:\\n']\n",
      "[0.6445, 'TREC Scores of test_res/RPNB-test/NB-0.5-1.0-5-2.0-1:\\n']\n",
      "============max test============\n",
      "max_test_MAP:  [0.6085, 'TREC Scores of test_res/RPNB-test/NB-1.5-2.0-3-1.0-2:\\n']\n",
      "max_test_MRR:  [0.6832, 'TREC Scores of test_res/RPNB-test/NB-1.5-2.0-3-1.0-2:\\n']\n"
     ]
    }
   ],
   "source": [
    "RPNB_path = \"../myclassify/RPNB_ranking_res.txt\"\n",
    "find_best_para(RPNB_path)"
   ]
  },
  {
   "cell_type": "code",
   "execution_count": 18,
   "metadata": {
    "collapsed": false
   },
   "outputs": [
    {
     "name": "stdout",
     "output_type": "stream",
     "text": [
      "2880\n",
      "=============max dev============\n",
      "max_dev_MAP:  [0.6012, 'TREC Scores of test_res/RPNBSIM-dev/NBSIM-0.5-0.75-3-1.5-1:\\n']\n",
      "max_dev_MRR:  [0.6734, 'TREC Scores of test_res/RPNBSIM-dev/NBSIM-0.5-0.5-5-1.5-1:\\n']\n",
      "=========test correspond to max dev MRR======\n",
      "[0.6153, 'TREC Scores of test_res/RPNBSIM-test/NBSIM-0.5-0.5-5-1.5-1:\\n']\n",
      "[0.6819, 'TREC Scores of test_res/RPNBSIM-test/NBSIM-0.5-0.5-5-1.5-1:\\n']\n",
      "=========test correspond to max dev MAP======\n",
      "[0.6206, 'TREC Scores of test_res/RPNBSIM-test/NBSIM-0.5-0.75-3-1.5-1:\\n']\n",
      "[0.6826, 'TREC Scores of test_res/RPNBSIM-test/NBSIM-0.5-0.75-3-1.5-1:\\n']\n",
      "============max test============\n",
      "max_test_MAP:  [0.6344, 'TREC Scores of test_res/RPNBSIM-test/NBSIM-2.0-2.0-3-0.8-2:\\n']\n",
      "max_test_MRR:  [0.7304, 'TREC Scores of test_res/RPNBSIM-test/NBSIM-2.0-2.0-5-0.8-1:\\n']\n"
     ]
    }
   ],
   "source": [
    "RPNBSIM_path = \"../myclassify/RPNBSIM_ranking_res.txt\"\n",
    "find_best_para(RPNBSIM_path)"
   ]
  },
  {
   "cell_type": "code",
   "execution_count": 19,
   "metadata": {
    "collapsed": false
   },
   "outputs": [
    {
     "name": "stdout",
     "output_type": "stream",
     "text": [
      "2880\n",
      "=============max dev============\n",
      "max_dev_MAP:  [0.715, 'TREC Scores of test_res/RPRF-dev/RF-1.5-0.75-3-0-2:\\n']\n",
      "max_dev_MRR:  [0.8006, 'TREC Scores of test_res/RPRF-dev/RF-1.5-0.75-5-0-2:\\n']\n",
      "=========test correspond to max dev MAP======\n",
      "[0.6261, 'TREC Scores of test_res/RPRF-test/RF-1.5-0.75-3-0-2:\\n']\n",
      "[0.7258, 'TREC Scores of test_res/RPRF-test/RF-1.5-0.75-3-0-2:\\n']\n",
      "=========test correspond to max dev MRR======\n",
      "[0.6231, 'TREC Scores of test_res/RPRF-test/RF-1.5-0.75-5-0-2:\\n']\n",
      "[0.712, 'TREC Scores of test_res/RPRF-test/RF-1.5-0.75-5-0-2:\\n']\n",
      "============max test============\n",
      "max_test_MAP:  [0.6464, 'TREC Scores of test_res/RPRF-test/RF-1.0-1.0-3-1.5-1:\\n']\n",
      "max_test_MRR:  [0.7502, 'TREC Scores of test_res/RPRF-test/RF-2.0-1.0-3-0-2:\\n']\n"
     ]
    }
   ],
   "source": [
    "RPRF_path = \"../myclassify/RPRF_ranking_res.txt\"\n",
    "find_best_para(RPRF_path)"
   ]
  },
  {
   "cell_type": "code",
   "execution_count": 20,
   "metadata": {
    "collapsed": false
   },
   "outputs": [
    {
     "name": "stdout",
     "output_type": "stream",
     "text": [
      "2880\n",
      "=============max dev============\n",
      "max_dev_MAP:  [0.7164, 'TREC Scores of test_res/RPGB-dev/GB-1.5-1.0-5-1.5-1:\\n']\n",
      "max_dev_MRR:  [0.7689, 'TREC Scores of test_res/RPGB-dev/GB-1.5-1.0-5-1.5-1:\\n']\n",
      "=========test correspond to max dev MAP======\n",
      "[0.6484, 'TREC Scores of test_res/RPGB-test/GB-1.5-1.0-5-1.5-1:\\n']\n",
      "[0.7176, 'TREC Scores of test_res/RPGB-test/GB-1.5-1.0-5-1.5-1:\\n']\n",
      "=========test correspond to max dev MRR======\n",
      "[0.6484, 'TREC Scores of test_res/RPGB-test/GB-1.5-1.0-5-1.5-1:\\n']\n",
      "[0.7176, 'TREC Scores of test_res/RPGB-test/GB-1.5-1.0-5-1.5-1:\\n']\n",
      "============max test============\n",
      "max_test_MAP:  [0.669, 'TREC Scores of test_res/RPGB-test/GB-2.0-2.0-3-1.5-1:\\n']\n",
      "max_test_MRR:  [0.7615, 'TREC Scores of test_res/RPGB-test/GB-2.0-2.0-3-1.5-1:\\n']\n"
     ]
    }
   ],
   "source": [
    "RPGB_path = \"../myclassify/RPGB_ranking_res.txt\"\n",
    "find_best_para(RPGB_path)"
   ]
  },
  {
   "cell_type": "code",
   "execution_count": 3,
   "metadata": {
    "collapsed": false
   },
   "outputs": [
    {
     "name": "stdout",
     "output_type": "stream",
     "text": [
      "2880\n",
      "=============max dev============\n",
      "max_dev_MAP:  [0.74, 'TREC Scores of test_res/RPLGSIM-dev/LGSIM-0.5-0.75-5-1.5-1:\\n']\n",
      "max_dev_MRR:  [0.8162, 'TREC Scores of test_res/RPLGSIM-dev/LGSIM-2.0-0.5-3-0-1:\\n']\n",
      "=========test correspond to max dev MAP======\n",
      "[0.6781, 'TREC Scores of test_res/RPLGSIM-test/LGSIM-0.5-0.75-5-1.5-1:\\n']\n",
      "[0.7461, 'TREC Scores of test_res/RPLGSIM-test/LGSIM-0.5-0.75-5-1.5-1:\\n']\n",
      "=========test correspond to max dev MRR======\n",
      "[0.6622, 'TREC Scores of test_res/RPLGSIM-test/LGSIM-2.0-0.5-3-0-1:\\n']\n",
      "[0.7723, 'TREC Scores of test_res/RPLGSIM-test/LGSIM-2.0-0.5-3-0-1:\\n']\n",
      "============max test============\n",
      "max_test_MAP:  [0.684, 'TREC Scores of test_res/RPLGSIM-test/LGSIM-2.0-0.75-5-1.5-1:\\n']\n",
      "max_test_MRR:  [0.7885, 'TREC Scores of test_res/RPLGSIM-test/LGSIM-2.0-0.75-5-1.25-1:\\n']\n"
     ]
    }
   ],
   "source": [
    "RPLGSIM_path = \"../myclassify/RPLGSIM_ranking_res.txt\"\n",
    "find_best_para(RPLGSIM_path)"
   ]
  },
  {
   "cell_type": "code",
   "execution_count": null,
   "metadata": {
    "collapsed": true
   },
   "outputs": [],
   "source": []
  }
 ],
 "metadata": {
  "kernelspec": {
   "display_name": "Python 2",
   "language": "python",
   "name": "python2"
  },
  "language_info": {
   "codemirror_mode": {
    "name": "ipython",
    "version": 2
   },
   "file_extension": ".py",
   "mimetype": "text/x-python",
   "name": "python",
   "nbconvert_exporter": "python",
   "pygments_lexer": "ipython2",
   "version": "2.7.13"
  }
 },
 "nbformat": 4,
 "nbformat_minor": 2
}
